{
  "cells": [
    {
      "cell_type": "code",
      "execution_count": null,
      "metadata": {
        "id": "u_xhBM6cGEg-"
      },
      "outputs": [],
      "source": [
        "import torchvision\n",
        "import torchvision.transforms as transforms\n",
        "import torch\n",
        "import cv2\n",
        "import numpy as np\n",
        "import matplotlib.pyplot as plt\n",
        "from tqdm import tqdm\n",
        "from sklearn import svm\n",
        "from sklearn.model_selection import train_test_split\n",
        "from sklearn.cluster import KMeans\n",
        "import wandb\n",
        "from pprint import pprint\n",
        "from torch.utils.data import DataLoader, Dataset\n",
        "from torch import nn\n",
        "from torch.utils.data import DataLoader, Dataset, RandomSampler\n",
        "from torch import nn\n",
        "from einops import rearrange"
      ]
    },
    {
      "cell_type": "markdown",
      "metadata": {
        "id": "0mta2jsgGEg_"
      },
      "source": [
        "# Question 1"
      ]
    },
    {
      "cell_type": "code",
      "execution_count": null,
      "metadata": {
        "id": "Dow-fIvkGEhB"
      },
      "outputs": [],
      "source": [
        "import cv2\n",
        "import numpy as np\n",
        "from sklearn.cluster import KMeans\n",
        "from sklearn import svm\n",
        "from tqdm import tqdm\n",
        "\n",
        "def get_descriptors_and_histograms(data, sift, n_clusters):\n",
        "    all_descriptors = []\n",
        "    histograms = []\n",
        "    for i in tqdm(range(len(data))):\n",
        "        image, _ = data[i]\n",
        "\n",
        "        # Convert PyTorch tensor to NumPy array and convert it to uint8\n",
        "        image = (image.numpy() * 255).astype(np.uint8)\n",
        "\n",
        "        # Convert grayscale image to BGR (required by SIFT)\n",
        "        image = cv2.cvtColor(image.squeeze(), cv2.COLOR_GRAY2BGR)\n",
        "\n",
        "        # Detect keypoints and compute descriptors\n",
        "        _, descriptors = sift.detectAndCompute(image, None)\n",
        "\n",
        "        if descriptors is not None:\n",
        "            all_descriptors.append(descriptors)\n",
        "            # Use the k-means object to generate a histogram\n",
        "            histogram = np.histogram(kmeans.predict(descriptors), bins=n_clusters, range=(0, n_clusters))[0]\n",
        "            histograms.append(histogram)\n",
        "        else:\n",
        "            histograms.append(np.zeros(n_clusters))\n",
        "\n",
        "    # Convert the list of descriptors to a single numpy array\n",
        "    all_descriptors = np.vstack(all_descriptors)\n",
        "    histograms = np.vstack(histograms)\n",
        "\n",
        "    return all_descriptors, histograms\n",
        "\n",
        "def sift_svm(num_clusters, trainset, testset):\n",
        "    sift = cv2.SIFT_create()\n",
        "\n",
        "    train_descriptors, train_histograms = get_descriptors_and_histograms(trainset, sift, num_clusters)\n",
        "    print(\"Descriptors: \", train_descriptors.shape)\n",
        "\n",
        "    kmeans = KMeans(n_clusters=num_clusters, n_init='auto')\n",
        "    kmeans.fit(train_descriptors)\n",
        "\n",
        "    test_descriptors, test_histograms = get_descriptors_and_histograms(testset, sift, num_clusters)\n",
        "\n",
        "    clf = svm.SVC(kernel='linear')\n",
        "    clf.fit(train_histograms, [label for _, label in trainset])\n",
        "\n",
        "    # Test the classifier and compute score\n",
        "    score = clf.score(test_histograms, [label for _, label in testset])\n",
        "    print(\"Score: \", score)\n",
        "\n",
        "    return score\n"
      ]
    },
    {
      "cell_type": "code",
      "execution_count": null,
      "metadata": {
        "id": "1BtlZqUTGEhC"
      },
      "outputs": [],
      "source": [
        "transform = transforms.Compose([transforms.ToTensor()])\n",
        "trainset = torchvision.datasets.MNIST(root='./data', train=True, download=True, transform=transform)\n",
        "testset = torchvision.datasets.MNIST(root='./data', train=False, download=True, transform=transform)\n"
      ]
    },
    {
      "cell_type": "code",
      "execution_count": null,
      "metadata": {
        "id": "_11A0IOhGEhC",
        "outputId": "b7f04d18-b44f-49a0-a9d1-6711b51c8baa"
      },
      "outputs": [
        {
          "name": "stdout",
          "output_type": "stream",
          "text": [
            "Num clusters:  2\n"
          ]
        },
        {
          "name": "stderr",
          "output_type": "stream",
          "text": [
            "100%|██████████| 60000/60000 [00:56<00:00, 1069.88it/s]\n"
          ]
        },
        {
          "name": "stdout",
          "output_type": "stream",
          "text": [
            "Descriptors:  (469496, 128)\n"
          ]
        },
        {
          "name": "stderr",
          "output_type": "stream",
          "text": [
            "100%|██████████| 60000/60000 [01:36<00:00, 621.15it/s]\n",
            "100%|██████████| 10000/10000 [00:14<00:00, 680.70it/s]\n"
          ]
        },
        {
          "name": "stdout",
          "output_type": "stream",
          "text": [
            "Score:  0.2098\n",
            "Num clusters:  5\n"
          ]
        },
        {
          "name": "stderr",
          "output_type": "stream",
          "text": [
            "100%|██████████| 60000/60000 [00:52<00:00, 1143.59it/s]\n"
          ]
        },
        {
          "name": "stdout",
          "output_type": "stream",
          "text": [
            "Descriptors:  (469496, 128)\n"
          ]
        },
        {
          "name": "stderr",
          "output_type": "stream",
          "text": [
            "100%|██████████| 60000/60000 [01:52<00:00, 534.61it/s]\n",
            "100%|██████████| 10000/10000 [00:18<00:00, 528.07it/s]\n"
          ]
        },
        {
          "name": "stdout",
          "output_type": "stream",
          "text": [
            "Score:  0.2956\n",
            "Num clusters:  10\n"
          ]
        },
        {
          "name": "stderr",
          "output_type": "stream",
          "text": [
            "100%|██████████| 60000/60000 [01:04<00:00, 930.01it/s] \n"
          ]
        },
        {
          "name": "stdout",
          "output_type": "stream",
          "text": [
            "Descriptors:  (469496, 128)\n"
          ]
        },
        {
          "name": "stderr",
          "output_type": "stream",
          "text": [
            "100%|██████████| 60000/60000 [01:44<00:00, 576.06it/s]\n",
            "100%|██████████| 10000/10000 [00:16<00:00, 598.57it/s]\n"
          ]
        },
        {
          "name": "stdout",
          "output_type": "stream",
          "text": [
            "Score:  0.414\n",
            "Num clusters:  20\n"
          ]
        },
        {
          "name": "stderr",
          "output_type": "stream",
          "text": [
            "100%|██████████| 60000/60000 [00:58<00:00, 1021.30it/s]\n"
          ]
        },
        {
          "name": "stdout",
          "output_type": "stream",
          "text": [
            "Descriptors:  (469496, 128)\n"
          ]
        },
        {
          "name": "stderr",
          "output_type": "stream",
          "text": [
            "100%|██████████| 60000/60000 [01:45<00:00, 566.58it/s]\n",
            "100%|██████████| 10000/10000 [00:17<00:00, 574.14it/s]\n"
          ]
        },
        {
          "name": "stdout",
          "output_type": "stream",
          "text": [
            "Score:  0.5399\n",
            "Num clusters:  50\n"
          ]
        },
        {
          "name": "stderr",
          "output_type": "stream",
          "text": [
            "100%|██████████| 60000/60000 [00:59<00:00, 1004.33it/s]\n"
          ]
        },
        {
          "name": "stdout",
          "output_type": "stream",
          "text": [
            "Descriptors:  (469496, 128)\n"
          ]
        },
        {
          "name": "stderr",
          "output_type": "stream",
          "text": [
            "100%|██████████| 60000/60000 [01:52<00:00, 531.89it/s]\n",
            "100%|██████████| 10000/10000 [00:20<00:00, 498.26it/s]\n"
          ]
        },
        {
          "name": "stdout",
          "output_type": "stream",
          "text": [
            "Score:  0.6649\n",
            "Num clusters:  100\n"
          ]
        },
        {
          "name": "stderr",
          "output_type": "stream",
          "text": [
            "100%|██████████| 60000/60000 [00:56<00:00, 1069.32it/s]\n"
          ]
        },
        {
          "name": "stdout",
          "output_type": "stream",
          "text": [
            "Descriptors:  (469496, 128)\n"
          ]
        },
        {
          "name": "stderr",
          "output_type": "stream",
          "text": [
            "100%|██████████| 60000/60000 [01:41<00:00, 591.72it/s]\n",
            "100%|██████████| 10000/10000 [00:16<00:00, 595.85it/s]\n"
          ]
        },
        {
          "name": "stdout",
          "output_type": "stream",
          "text": [
            "Score:  0.7541\n",
            "Num clusters:  200\n"
          ]
        },
        {
          "name": "stderr",
          "output_type": "stream",
          "text": [
            "100%|██████████| 60000/60000 [00:55<00:00, 1081.88it/s]\n"
          ]
        },
        {
          "name": "stdout",
          "output_type": "stream",
          "text": [
            "Descriptors:  (469496, 128)\n"
          ]
        },
        {
          "name": "stderr",
          "output_type": "stream",
          "text": [
            "100%|██████████| 60000/60000 [01:39<00:00, 603.08it/s]\n",
            "100%|██████████| 10000/10000 [00:17<00:00, 571.15it/s]\n"
          ]
        },
        {
          "name": "stdout",
          "output_type": "stream",
          "text": [
            "Score:  0.8067\n",
            "Num clusters:  500\n"
          ]
        },
        {
          "name": "stderr",
          "output_type": "stream",
          "text": [
            "100%|██████████| 60000/60000 [00:55<00:00, 1077.51it/s]\n"
          ]
        },
        {
          "name": "stdout",
          "output_type": "stream",
          "text": [
            "Descriptors:  (469496, 128)\n"
          ]
        },
        {
          "name": "stderr",
          "output_type": "stream",
          "text": [
            "100%|██████████| 60000/60000 [01:53<00:00, 527.38it/s]\n",
            "100%|██████████| 10000/10000 [00:19<00:00, 512.35it/s]\n"
          ]
        },
        {
          "name": "stdout",
          "output_type": "stream",
          "text": [
            "Score:  0.8486\n",
            "Num clusters:  1000\n"
          ]
        },
        {
          "name": "stderr",
          "output_type": "stream",
          "text": [
            "100%|██████████| 60000/60000 [00:46<00:00, 1287.16it/s]\n"
          ]
        },
        {
          "name": "stdout",
          "output_type": "stream",
          "text": [
            "Descriptors:  (469496, 128)\n"
          ]
        },
        {
          "name": "stderr",
          "output_type": "stream",
          "text": [
            "100%|██████████| 60000/60000 [01:35<00:00, 625.75it/s]\n",
            "100%|██████████| 10000/10000 [00:15<00:00, 636.94it/s]\n"
          ]
        },
        {
          "name": "stdout",
          "output_type": "stream",
          "text": [
            "Score:  0.8553\n"
          ]
        },
        {
          "data": {
            "text/plain": [
              "[<matplotlib.lines.Line2D at 0x7faee28b6230>]"
            ]
          },
          "execution_count": 14,
          "metadata": {},
          "output_type": "execute_result"
        },
        {
          "data": {
            "image/png": "[encoded data removed]",
            "text/plain": [
              "<Figure size 640x480 with 1 Axes>"
            ]
          },
          "metadata": {},
          "output_type": "display_data"
        }
      ],
      "source": [
        "cluster_sizes = [2, 5, 10, 20, 50, 100, 200, 500, 1000]\n",
        "accuracies = [sift_svm(cluster_size, trainset, testset) for cluster_size in cluster_sizes]\n",
        "plt.plot(cluster_sizes, accuracies)"
      ]
    },
    {
      "cell_type": "code",
      "execution_count": null,
      "metadata": {
        "id": "15osY0_3GEhC",
        "outputId": "51d7072e-2b01-4d7b-ab9b-ddcf173fab6d"
      },
      "outputs": [
        {
          "name": "stdout",
          "output_type": "stream",
          "text": [
            "2 0.2098\n",
            "5 0.2956\n",
            "10 0.414\n",
            "20 0.5399\n",
            "50 0.6649\n",
            "100 0.7541\n",
            "200 0.8067\n",
            "500 0.8486\n",
            "1000 0.8553\n"
          ]
        }
      ],
      "source": [
        "for i in range(len(cluster_sizes)):\n",
        "    print(cluster_sizes[i], accuracies[i])"
      ]
    },
    {
      "cell_type": "code",
      "execution_count": null,
      "metadata": {
        "id": "MNFh2wklGEhD"
      },
      "outputs": [],
      "source": [
        "def sift_svm_tuning(trainset, testset, num_clusters=100, nfeatures=0, sigma=1.6, c=1.0):\n",
        "    # Create a SIFT object\n",
        "    print(\"Num clusters: \", num_clusters)\n",
        "    sift = cv2.SIFT_create(nfeatures=nfeatures, sigma=sigma)\n",
        "\n",
        "    # Get descriptors and histograms for training set\n",
        "    train_descriptors, train_histograms = get_descriptors_and_histograms(trainset, sift, num_clusters)\n",
        "    print(\"Descriptors: \", train_descriptors.shape)\n",
        "\n",
        "    # Create k-means object and fit it to training descriptors\n",
        "    kmeans = KMeans(n_clusters=num_clusters, n_init='auto')\n",
        "    kmeans.fit(train_descriptors)\n",
        "\n",
        "    # Get histograms for test set\n",
        "    test_descriptors, test_histograms = get_descriptors_and_histograms(testset, sift, num_clusters)\n",
        "\n",
        "    # Train SVM classifier\n",
        "    clf = svm.SVC(kernel='linear', C=c)\n",
        "    clf.fit(train_histograms, [label for _, label in trainset])\n",
        "\n",
        "    # Test the classifier and compute score\n",
        "    score = clf.score(test_histograms, [label for _, label in testset])\n",
        "    print(\"Score: \", score)\n",
        "\n",
        "    return score"
      ]
    },
    {
      "cell_type": "code",
      "execution_count": null,
      "metadata": {
        "id": "260VJi7TGEhD",
        "outputId": "8fe017f5-5b64-4b81-e816-beeec91cd000"
      },
      "outputs": [
        {
          "name": "stdout",
          "output_type": "stream",
          "text": [
            "Num clusters:  100 \n",
            "100%|██████████| 60000/60000 [01:49<00:00, 547.41it/s] \n",
            "100%|██████████| 60000/60000 [02:42<00:00, 370.08it/s] \n",
            "100%|██████████| 10000/10000 [00:25<00:00, 391.38it/s] \n",
            "Score:  0.7387 \n",
            "0.7387 \n",
            "Num clusters:  100 \n",
            "100%|██████████| 60000/60000 [01:39<00:00, 602.10it/s] \n",
            "100%|██████████| 60000/60000 [02:37<00:00, 380.70it/s]\n",
            "100%|██████████| 10000/10000 [00:27<00:00, 369.11it/s]\n",
            "Score:  0.7306\n",
            "0.7306\n",
            "Num clusters:  100\n",
            "100%|██████████| 60000/60000 [01:41<00:00, 591.25it/s]\n",
            "100%|██████████| 60000/60000 [02:35<00:00, 385.49it/s]\n",
            "100%|██████████| 10000/10000 [00:25<00:00, 389.14it/s]\n",
            "Score:  0.7274\n",
            "0.7274\n",
            "Num clusters:  100\n",
            "100%|██████████| 60000/60000 [01:43<00:00, 580.02it/s]\n",
            "100%|██████████| 60000/60000 [02:47<00:00, 357.25it/s]\n",
            "100%|██████████| 10000/10000 [00:27<00:00, 363.70it/s]\n",
            "Score:  0.7761\n",
            "0.7761\n",
            "Num clusters:  100\n",
            "100%|██████████| 60000/60000 [01:46<00:00, 560.93it/s]\n",
            "100%|██████████| 60000/60000 [02:24<00:00, 415.86it/s]\n",
            "100%|██████████| 10000/10000 [00:24<00:00, 415.16it/s]\n",
            "Score:  0.4979\n",
            "0.4979\n",
            "Num clusters:  100\n",
            "100%|██████████| 60000/60000 [01:40<00:00, 594.43it/s]\n",
            "100%|██████████| 60000/60000 [02:38<00:00, 377.96it/s]\n",
            "100%|██████████| 10000/10000 [00:27<00:00, 358.33it/s]\n",
            "Score:  0.7331\n",
            "0.7331\n",
            "Num clusters:  100\n",
            "100%|██████████| 60000/60000 [01:38<00:00, 607.58it/s]\n",
            "100%|██████████| 60000/60000 [02:34<00:00, 387.33it/s]\n",
            "100%|██████████| 10000/10000 [00:25<00:00, 391.05it/s]\n",
            "Score:  0.7334\n",
            "0.7334\n"
          ]
        }
      ],
      "source": [
        "print(sift_svm_tuning(trainset, testset, num_clusters=100, nfeatures=0, sigma=1.6, c=1.0))\n",
        "print(sift_svm_tuning(trainset, testset, num_clusters=100, nfeatures=0, sigma=1.6, c=0.1))\n",
        "print(sift_svm_tuning(trainset, testset, num_clusters=100, nfeatures=0, sigma=1.6, c=10))\n",
        "print(sift_svm_tuning(trainset, testset, num_clusters=100, nfeatures=0, sigma=0.8, c=1.0))\n",
        "print(sift_svm_tuning(trainset, testset, num_clusters=100, nfeatures=0, sigma=3.2, c=1.0))\n",
        "print(sift_svm_tuning(trainset, testset, num_clusters=100, nfeatures=100, sigma=1.6, c=1.0))\n",
        "print(sift_svm_tuning(trainset, testset, num_clusters=100, nfeatures=500, sigma=1.6, c=1.0))"
      ]
    },
    {
      "cell_type": "markdown",
      "metadata": {
        "id": "95vIYN3gGEhD"
      },
      "source": [
        "# Question 2"
      ]
    },
    {
      "cell_type": "code",
      "execution_count": null,
      "metadata": {
        "id": "tNSI8wEyGEhE"
      },
      "outputs": [],
      "source": [
        "class LeNet(nn.Module):\n",
        "    def __init__(self):\n",
        "        super(LeNet, self).__init__()\n",
        "        self.conv1 = nn.Conv2d(1, 6, kernel_size=5, stride=1, padding=2)\n",
        "        self.conv2 = nn.Conv2d(6, 16, kernel_size=5, stride=1, padding=0)\n",
        "        self.conv3 = nn.Conv2d(16, 120, kernel_size=5, stride=1, padding=0)\n",
        "\n",
        "        self.fc1 = nn.Linear(120, 84)\n",
        "        self.fc2 = nn.Linear(84, 10)\n",
        "\n",
        "        self.tanh = nn.Tanh()\n",
        "        self.avgpool = nn.AvgPool2d(kernel_size=2, stride=2)\n",
        "        self.flatten = nn.Flatten()\n",
        "        self.softmax = nn.Softmax(dim=1)\n",
        "\n",
        "    def forward(self, x):\n",
        "        x = self.conv1(x)\n",
        "        x = self.tanh(x)\n",
        "        x = self.avgpool(x)\n",
        "\n",
        "        x = self.conv2(x)\n",
        "        x = self.tanh(x)\n",
        "        x = self.avgpool(x)\n",
        "\n",
        "        x = self.conv3(x)\n",
        "        x = self.flatten(x)\n",
        "        x = self.tanh(x)\n",
        "        x = self.fc1(x)\n",
        "        x = self.tanh(x)\n",
        "        x = self.fc2(x)\n",
        "        x = self.softmax(x)\n",
        "        return x"
      ]
    },
    {
      "cell_type": "code",
      "execution_count": null,
      "metadata": {
        "id": "694_V7XSGEhE"
      },
      "outputs": [],
      "source": [
        "import torch.nn as nn\n",
        "\n",
        "class LeNet2(LeNet):\n",
        "    def __init__(self):\n",
        "        super(LeNet2, self).__init__()\n",
        "        # Override the architecture defined in the parent class\n",
        "        self.conv2 = nn.Conv2d(6, 12, kernel_size=5, stride=1, padding=2)\n",
        "        self.conv3 = nn.Conv2d(12, 24, kernel_size=5, stride=1, padding=2)\n",
        "        self.conv4 = nn.Conv2d(24, 48, kernel_size=5, stride=1, padding=0)\n",
        "        self.conv5 = nn.Conv2d(48, 120, kernel_size=5, stride=1, padding=0)\n"
      ]
    },
    {
      "cell_type": "code",
      "execution_count": null,
      "metadata": {
        "id": "27dE4-LnGEhE"
      },
      "outputs": [],
      "source": [
        "class TransEncoder(nn.Module):\n",
        "    def __init__(self):\n",
        "        super(TransEncoder, self).__init__()\n",
        "        self.patch_size = 7\n",
        "        num_patches = (28 // self.patch_size) ** 2\n",
        "        patch_dim = 1 * self.patch_size ** 2\n",
        "        self.d_model = 128\n",
        "\n",
        "        self.pos_embedding = nn.Parameter(torch.randn(1, num_patches + 1, self.d_model))\n",
        "        self.patch_to_embedding = nn.Linear(patch_dim, self.d_model)\n",
        "        self.cls_token = nn.Parameter(torch.randn(1, 1, self.d_model))\n",
        "        self.transfromer_encoder = nn.TransformerEncoder(\n",
        "            nn.TransformerEncoderLayer(d_model=self.d_model, nhead=8, batch_first=True), num_layers=2\n",
        "        )\n",
        "\n",
        "        self.classifier = nn.Sequential(\n",
        "            nn.Linear(self.d_model, 256),\n",
        "            nn.ReLU(),\n",
        "            nn.Linear(256, 10),\n",
        "            nn.Softmax(dim=1)\n",
        "        )\n",
        "\n",
        "    def forward(self, x):\n",
        "        p = self.patch_size\n",
        "\n",
        "        x = rearrange(x, 'b c (h p1) (w p2) -> b (h w) (p1 p2 c)', p1=p, p2=p)\n",
        "        x = self.patch_to_embedding(x)\n",
        "\n",
        "        cls_tokens = self.cls_token.expand(x.shape[0], -1, -1)\n",
        "\n",
        "        x = torch.cat((cls_tokens, x), dim=1)\n",
        "\n",
        "        x += self.pos_embedding\n",
        "        x = self.transfromer_encoder(x)\n",
        "\n",
        "        x = x[:, 0, :]\n",
        "        x = self.classifier(x)\n",
        "        return x\n"
      ]
    },
    {
      "cell_type": "code",
      "source": [
        "def train_and_val_one_epoch(epoch, model, train_loader, test_loader, optimizer, criterion, device, is_training=True):\n",
        "    if is_training:\n",
        "        model.train()\n",
        "        desc = f\"Training Epoch {epoch}\"\n",
        "        loader = train_loader\n",
        "    else:\n",
        "        model.eval()\n",
        "        desc = f\"Validation Epoch {epoch}\"\n",
        "        loader = test_loader\n",
        "\n",
        "    running_loss = 0.0\n",
        "    total_loss = 0.0\n",
        "    total_acc = 0.0\n",
        "\n",
        "    for X, y in tqdm(loader, desc=desc, leave=False):\n",
        "        X, y = X.to(device), y.to(device)\n",
        "        optimizer.zero_grad()\n",
        "\n",
        "        with torch.set_grad_enabled(is_training):\n",
        "            out = model(X)\n",
        "            loss = criterion(out, y)\n",
        "\n",
        "            if is_training:\n",
        "                loss.backward()\n",
        "                optimizer.step()\n",
        "\n",
        "            running_loss += loss.item()\n",
        "            total_loss += loss.item()\n",
        "            total_acc += (out.argmax(1) == y).float().mean().item()\n",
        "\n",
        "    return total_loss / len(loader), total_acc / len(loader)\n"
      ],
      "metadata": {
        "id": "JesLhxmPWiG6"
      },
      "execution_count": 1,
      "outputs": []
    },
    {
      "cell_type": "code",
      "source": [
        "def trainer(my_log, lr, opt, batch_size, model_type, num_training_samples=60000, num_epochs=10):\n",
        "    EPOCHS = num_epochs\n",
        "    LEARNING_RATE = lr\n",
        "    BATCH_SIZE = batch_size\n",
        "    OPTIM = opt\n",
        "    MODEL_TYPE = model_type\n",
        "    DEVICE = 'cuda' if torch.cuda.is_available() else 'cpu'\n",
        "\n",
        "    train = RandomSampler(trainset, num_samples=num_training_samples)\n",
        "    test = testset\n",
        "    train_loader = DataLoader(trainset, batch_size=BATCH_SIZE, sampler=train)\n",
        "    test_loader = DataLoader(test, batch_size=BATCH_SIZE, shuffle=False)\n",
        "\n",
        "    if MODEL_TYPE == 'lenet':\n",
        "        model = LeNet().to(DEVICE)\n",
        "    elif MODEL_TYPE == 'lenet2':\n",
        "        model = LeNet2().to(DEVICE)\n",
        "    else:\n",
        "        model = TransEncoder().to(DEVICE)\n",
        "\n",
        "    if OPTIM == 'adam':\n",
        "        optimizer = torch.optim.Adam(model.parameters(), lr=LEARNING_RATE)\n",
        "    elif OPTIM == 'sgd':\n",
        "        optimizer = torch.optim.SGD(model.parameters(), lr=LEARNING_RATE)\n",
        "\n",
        "    criterion = nn.CrossEntropyLoss()\n",
        "\n",
        "    # Log before training\n",
        "    train_loss, train_acc = train_and_val_one_epoch(0, model, train_loader, test_loader, optimizer, criterion, DEVICE, is_training=False)\n",
        "    val_loss, val_acc = train_and_val_one_epoch(0, model, train_loader, test_loader, optimizer, criterion, DEVICE, is_training=False)\n",
        "\n",
        "    msg = {'train/loss': train_loss, 'train/acc': train_acc, 'val/loss': val_loss, 'val/acc': val_acc}\n",
        "    for i in msg:\n",
        "        if i not in my_log.keys():\n",
        "            my_log[i] = []\n",
        "        my_log[i].append(msg[i])\n",
        "\n",
        "    print(f'Epoch: 0, Train Loss: {train_loss}, Train Acc: {train_acc}, Val Loss: {val_loss}, Val Acc: {val_acc}')\n",
        "\n",
        "    prev_val_loss = val_loss\n",
        "    for epoch in range(EPOCHS):\n",
        "        train_loss, train_acc = train_and_val_one_epoch(epoch + 1, model, train_loader, test_loader, optimizer, criterion, DEVICE)\n",
        "        val_loss, val_acc = train_and_val_one_epoch(epoch + 1, model, train_loader, test_loader, optimizer, criterion, DEVICE)\n",
        "\n",
        "        print(f'Epoch: {epoch + 1}, Train Loss: {train_loss}, Train Acc: {train_acc}, Val Loss: {val_loss}, Val Acc: {val_acc}')\n",
        "\n",
        "        if val_loss > prev_val_loss:\n",
        "            print(\"Early stopping\")\n",
        "            break\n",
        "        prev_val_loss = val_loss\n",
        "\n",
        "        msg = {'train/loss': train_loss, 'train/acc': train_acc, 'val/loss': val_loss, 'val/acc': val_acc}\n",
        "        for i in msg:\n",
        "            if i not in my_log.keys():\n",
        "                my_log[i] = []\n",
        "            my_log[i].append(msg[i])\n",
        "\n",
        "    return my_log\n"
      ],
      "metadata": {
        "id": "iMKEEF9uWcka"
      },
      "execution_count": 2,
      "outputs": []
    },
    {
      "cell_type": "code",
      "execution_count": null,
      "metadata": {
        "id": "OcDX7O_tGEhF"
      },
      "outputs": [],
      "source": [
        "my_experiments = []\n",
        "def exp_run(lr, model_type, optimizer, batch_size=64, num_training_samples=60000, num_epochs=20):\n",
        "    my_exp_log = {}\n",
        "    exp_name = f'{model_type}_{optimizer}_lr_{lr}_bs_{batch_size}_n_{num_training_samples}_e_{num_epochs}'\n",
        "    # pprint({'lr': lr, 'model_type': model_type, 'optimizer': optimizer, 'batch_size': batch_size, 'num_training_samples': num_training_samples})\n",
        "    print(exp_name)\n",
        "    my_exp_log = trainer(my_exp_log, lr, optimizer, batch_size, model_type, num_training_samples, num_epochs)\n",
        "    my_experiments.append({'name': exp_name, 'log': my_exp_log})\n"
      ]
    },
    {
      "cell_type": "code",
      "execution_count": null,
      "metadata": {
        "id": "lDDrFbdPGEhF",
        "outputId": "4f95350e-cde8-4e0a-9e9d-0c44354275fa"
      },
      "outputs": [
        {
          "name": "stdout",
          "output_type": "stream",
          "text": [
            "lenet_adam_lr_0.001_bs_64_n_60000\n"
          ]
        },
        {
          "name": "stderr",
          "output_type": "stream",
          "text": [
            "                                                                      \r"
          ]
        },
        {
          "name": "stdout",
          "output_type": "stream",
          "text": [
            "Epoch: 0, Train Loss: 2.3027910515189425, Train Acc: 0.09753131663113006, Val Loss: 2.3028501462025246, Val Acc: 0.09723328025477707\n"
          ]
        },
        {
          "name": "stderr",
          "output_type": "stream",
          "text": [
            "                                                                      \r"
          ]
        },
        {
          "name": "stdout",
          "output_type": "stream",
          "text": [
            "Epoch: 1, Train Loss: 1.5851526750938725, Train Acc: 0.8941064765458422, Val Loss: 1.51145769987896, Val Acc: 0.9551154458598726\n"
          ]
        },
        {
          "name": "stderr",
          "output_type": "stream",
          "text": [
            "                                                                      \r"
          ]
        },
        {
          "name": "stdout",
          "output_type": "stream",
          "text": [
            "Epoch: 2, Train Loss: 1.500696867767936, Train Acc: 0.9637526652452025, Val Loss: 1.4908846070052713, Val Acc: 0.972531847133758\n"
          ]
        },
        {
          "name": "stderr",
          "output_type": "stream",
          "text": [
            "                                                                      \r"
          ]
        },
        {
          "name": "stdout",
          "output_type": "stream",
          "text": [
            "Epoch: 3, Train Loss: 1.4885343572478305, Train Acc: 0.974713486140725, Val Loss: 1.4850115282520366, Val Acc: 0.9785031847133758\n"
          ]
        },
        {
          "name": "stderr",
          "output_type": "stream",
          "text": [
            "                                                                      \r"
          ]
        },
        {
          "name": "stdout",
          "output_type": "stream",
          "text": [
            "Epoch: 4, Train Loss: 1.4830841644486386, Train Acc: 0.9793943230277186, Val Loss: 1.4843977355653313, Val Acc: 0.9786027070063694\n"
          ]
        },
        {
          "name": "stderr",
          "output_type": "stream",
          "text": [
            "                                                                      \r"
          ]
        },
        {
          "name": "stdout",
          "output_type": "stream",
          "text": [
            "Epoch: 5, Train Loss: 1.4792469583594723, Train Acc: 0.9831256663113006, Val Loss: 1.4800428835449704, Val Acc: 0.9814888535031847\n"
          ]
        },
        {
          "name": "stderr",
          "output_type": "stream",
          "text": [
            "                                                                      "
          ]
        },
        {
          "name": "stdout",
          "output_type": "stream",
          "text": [
            "Epoch: 6, Train Loss: 1.4770725650319667, Train Acc: 0.9851912313432836, Val Loss: 1.4804676027055, Val Acc: 0.981687898089172\n",
            "Early stopping\n"
          ]
        },
        {
          "name": "stderr",
          "output_type": "stream",
          "text": [
            "\r"
          ]
        }
      ],
      "source": [
        "exp_run(0.001, 'lenet', 'adam')"
      ]
    },
    {
      "cell_type": "code",
      "execution_count": null,
      "metadata": {
        "id": "WWmFrXf3GEhG",
        "outputId": "88b173b2-6f14-4df4-ad1d-63a3250517df"
      },
      "outputs": [
        {
          "data": {
            "text/plain": [
              "<matplotlib.legend.Legend at 0x7f26b8552ee0>"
            ]
          },
          "metadata": {},
          "output_type": "display_data"
        },
        {
          "data": {
            "image/png": "[encoded data removed]",
            "text/plain": [
              "<Figure size 640x480 with 1 Axes>"
            ]
          },
          "metadata": {},
          "output_type": "display_data"
        }
      ],
      "source": [
        "plt.plot(my_experiments[0]['log']['train/loss'], label='train')\n",
        "plt.plot(my_experiments[0]['log']['val/loss'], label='val')\n",
        "plt.legend()"
      ]
    },
    {
      "cell_type": "code",
      "execution_count": null,
      "metadata": {
        "id": "BM1TNWkXGEhG",
        "outputId": "30dc137f-1971-470f-e4ae-9d38dc9767e7"
      },
      "outputs": [
        {
          "name": "stdout",
          "output_type": "stream",
          "text": [
            "lenet_sgd_lr_0.001_bs_64_n_60000\n"
          ]
        },
        {
          "name": "stderr",
          "output_type": "stream",
          "text": [
            "Validation Epoch 0:   0%|          | 0/938 [00:00<?, ?it/s]"
          ]
        },
        {
          "name": "stderr",
          "output_type": "stream",
          "text": [
            "                                                                      \r"
          ]
        },
        {
          "name": "stdout",
          "output_type": "stream",
          "text": [
            "Epoch: 0, Train Loss: 2.302541846151291, Train Acc: 0.10441098081023455, Val Loss: 2.3025796762697257, Val Acc: 0.10260748407643312\n"
          ]
        },
        {
          "name": "stderr",
          "output_type": "stream",
          "text": [
            "                                                                      \r"
          ]
        },
        {
          "name": "stdout",
          "output_type": "stream",
          "text": [
            "Epoch: 1, Train Loss: 2.3025221733142063, Train Acc: 0.10441098081023455, Val Loss: 2.3025371724632895, Val Acc: 0.10260748407643312\n"
          ]
        },
        {
          "name": "stderr",
          "output_type": "stream",
          "text": [
            "                                                                      \r"
          ]
        },
        {
          "name": "stdout",
          "output_type": "stream",
          "text": [
            "Epoch: 2, Train Loss: 2.302480672722432, Train Acc: 0.10442763859275053, Val Loss: 2.302494346715842, Val Acc: 0.10260748407643312\n"
          ]
        },
        {
          "name": "stderr",
          "output_type": "stream",
          "text": [
            "                                                                      \r"
          ]
        },
        {
          "name": "stdout",
          "output_type": "stream",
          "text": [
            "Epoch: 3, Train Loss: 2.3024356657508087, Train Acc: 0.1044776119402985, Val Loss: 2.302451197508794, Val Acc: 0.10260748407643312\n"
          ]
        },
        {
          "name": "stderr",
          "output_type": "stream",
          "text": [
            "                                                                      \r"
          ]
        },
        {
          "name": "stdout",
          "output_type": "stream",
          "text": [
            "Epoch: 4, Train Loss: 2.302393866246189, Train Acc: 0.10446095415778252, Val Loss: 2.3024076489126606, Val Acc: 0.10260748407643312\n"
          ]
        },
        {
          "name": "stderr",
          "output_type": "stream",
          "text": [
            "                                                                      \r"
          ]
        },
        {
          "name": "stdout",
          "output_type": "stream",
          "text": [
            "Epoch: 5, Train Loss: 2.3023515047549186, Train Acc: 0.10442763859275053, Val Loss: 2.3023637586338506, Val Acc: 0.10260748407643312\n"
          ]
        },
        {
          "name": "stderr",
          "output_type": "stream",
          "text": [
            "                                                                      \r"
          ]
        },
        {
          "name": "stdout",
          "output_type": "stream",
          "text": [
            "Epoch: 6, Train Loss: 2.3023093501642062, Train Acc: 0.10441098081023455, Val Loss: 2.3023193049582704, Val Acc: 0.10260748407643312\n"
          ]
        },
        {
          "name": "stderr",
          "output_type": "stream",
          "text": [
            "                                                                      \r"
          ]
        },
        {
          "name": "stdout",
          "output_type": "stream",
          "text": [
            "Epoch: 7, Train Loss: 2.3022646004203033, Train Acc: 0.10439432302771855, Val Loss: 2.302274325850663, Val Acc: 0.10260748407643312\n"
          ]
        },
        {
          "name": "stderr",
          "output_type": "stream",
          "text": [
            "                                                                      \r"
          ]
        },
        {
          "name": "stdout",
          "output_type": "stream",
          "text": [
            "Epoch: 8, Train Loss: 2.3022199508223706, Train Acc: 0.10442763859275053, Val Loss: 2.3022287317142367, Val Acc: 0.10260748407643312\n"
          ]
        },
        {
          "name": "stderr",
          "output_type": "stream",
          "text": [
            "                                                                      \r"
          ]
        },
        {
          "name": "stdout",
          "output_type": "stream",
          "text": [
            "Epoch: 9, Train Loss: 2.3021749280917363, Train Acc: 0.10442763859275053, Val Loss: 2.3021824481380975, Val Acc: 0.10260748407643312\n"
          ]
        },
        {
          "name": "stderr",
          "output_type": "stream",
          "text": [
            "                                                                       \r"
          ]
        },
        {
          "name": "stdout",
          "output_type": "stream",
          "text": [
            "Epoch: 10, Train Loss: 2.3021286334564435, Train Acc: 0.10441098081023455, Val Loss: 2.302135423490196, Val Acc: 0.10260748407643312\n",
            "lenet_adam_lr_0.01_bs_64_n_60000\n"
          ]
        },
        {
          "name": "stderr",
          "output_type": "stream",
          "text": [
            "                                                                      \r"
          ]
        },
        {
          "name": "stdout",
          "output_type": "stream",
          "text": [
            "Epoch: 0, Train Loss: 2.3028673098793924, Train Acc: 0.0650319829424307, Val Loss: 2.302951650255045, Val Acc: 0.06628184713375797\n"
          ]
        },
        {
          "name": "stderr",
          "output_type": "stream",
          "text": [
            "                                                                      \r"
          ]
        },
        {
          "name": "stdout",
          "output_type": "stream",
          "text": [
            "Epoch: 1, Train Loss: 1.5571992633693508, Train Acc: 0.9077492004264393, Val Loss: 1.5226394591058137, Val Acc: 0.939390923566879\n"
          ]
        },
        {
          "name": "stderr",
          "output_type": "stream",
          "text": [
            "                                                                      \r"
          ]
        },
        {
          "name": "stdout",
          "output_type": "stream",
          "text": [
            "Epoch: 2, Train Loss: 1.5164155863495523, Train Acc: 0.9456623134328358, Val Loss: 1.5031718919231634, Val Acc: 0.9599920382165605\n"
          ]
        },
        {
          "name": "stderr",
          "output_type": "stream",
          "text": [
            "                                                                      \r"
          ]
        },
        {
          "name": "stdout",
          "output_type": "stream",
          "text": [
            "Epoch: 3, Train Loss: 1.5114380646107801, Train Acc: 0.9505263859275054, Val Loss: 1.5189456241146015, Val Acc: 0.9427746815286624\n",
            "Early stopping\n",
            "lenet_sgd_lr_0.01_bs_64_n_60000\n"
          ]
        },
        {
          "name": "stderr",
          "output_type": "stream",
          "text": [
            "                                                                      \r"
          ]
        },
        {
          "name": "stdout",
          "output_type": "stream",
          "text": [
            "Epoch: 0, Train Loss: 2.3025053233734325, Train Acc: 0.13071361940298507, Val Loss: 2.302572844134774, Val Acc: 0.12211385350318471\n"
          ]
        },
        {
          "name": "stderr",
          "output_type": "stream",
          "text": [
            "                                                                      \r"
          ]
        },
        {
          "name": "stdout",
          "output_type": "stream",
          "text": [
            "Epoch: 1, Train Loss: 2.301662949356697, Train Acc: 0.162080223880597, Val Loss: 2.300783488401182, Val Acc: 0.17366640127388536\n"
          ]
        },
        {
          "name": "stderr",
          "output_type": "stream",
          "text": [
            "                                                                      \r"
          ]
        },
        {
          "name": "stdout",
          "output_type": "stream",
          "text": [
            "Epoch: 2, Train Loss: 2.299587884183123, Train Acc: 0.2034914712153518, Val Loss: 2.298205097769476, Val Acc: 0.23885350318471338\n"
          ]
        },
        {
          "name": "stderr",
          "output_type": "stream",
          "text": [
            "                                                                      \r"
          ]
        },
        {
          "name": "stdout",
          "output_type": "stream",
          "text": [
            "Epoch: 3, Train Loss: 2.29605204565947, Train Acc: 0.2741204690831556, Val Loss: 2.293141050703207, Val Acc: 0.2906050955414013\n"
          ]
        },
        {
          "name": "stderr",
          "output_type": "stream",
          "text": [
            "                                                                      \r"
          ]
        },
        {
          "name": "stdout",
          "output_type": "stream",
          "text": [
            "Epoch: 4, Train Loss: 2.287137968199594, Train Acc: 0.32772521321961623, Val Loss: 2.277089894956844, Val Acc: 0.4049562101910828\n"
          ]
        },
        {
          "name": "stderr",
          "output_type": "stream",
          "text": [
            "                                                                      \r"
          ]
        },
        {
          "name": "stdout",
          "output_type": "stream",
          "text": [
            "Epoch: 5, Train Loss: 2.2378082867624407, Train Acc: 0.41499533582089554, Val Loss: 2.1701537651620852, Val Acc: 0.3942078025477707\n"
          ]
        },
        {
          "name": "stderr",
          "output_type": "stream",
          "text": [
            "                                                                      \r"
          ]
        },
        {
          "name": "stdout",
          "output_type": "stream",
          "text": [
            "Epoch: 6, Train Loss: 2.084410688770351, Train Acc: 0.4672341417910448, Val Loss: 1.9838267967199823, Val Acc: 0.5634952229299363\n"
          ]
        },
        {
          "name": "stderr",
          "output_type": "stream",
          "text": [
            "                                                                      \r"
          ]
        },
        {
          "name": "stdout",
          "output_type": "stream",
          "text": [
            "Epoch: 7, Train Loss: 1.9127444083502552, Train Acc: 0.6216684434968017, Val Loss: 1.8481132505805629, Val Acc: 0.680234872611465\n"
          ]
        },
        {
          "name": "stderr",
          "output_type": "stream",
          "text": [
            "                                                                      \r"
          ]
        },
        {
          "name": "stdout",
          "output_type": "stream",
          "text": [
            "Epoch: 8, Train Loss: 1.8200325634179593, Train Acc: 0.6961287313432836, Val Loss: 1.7830554899896027, Val Acc: 0.7373606687898089\n"
          ]
        },
        {
          "name": "stderr",
          "output_type": "stream",
          "text": [
            "                                                                      \r"
          ]
        },
        {
          "name": "stdout",
          "output_type": "stream",
          "text": [
            "Epoch: 9, Train Loss: 1.7563678793815662, Train Acc: 0.7691731076759062, Val Loss: 1.721068549308048, Val Acc: 0.8007563694267515\n"
          ]
        },
        {
          "name": "stderr",
          "output_type": "stream",
          "text": [
            "                                                                       \r"
          ]
        },
        {
          "name": "stdout",
          "output_type": "stream",
          "text": [
            "Epoch: 10, Train Loss: 1.7098248878013351, Train Acc: 0.8002232142857143, Val Loss: 1.6862295258576703, Val Acc: 0.8177746815286624\n",
            "lenet_adam_lr_0.001_bs_128_n_60000\n"
          ]
        },
        {
          "name": "stderr",
          "output_type": "stream",
          "text": [
            "                                                                     \r"
          ]
        },
        {
          "name": "stdout",
          "output_type": "stream",
          "text": [
            "Epoch: 0, Train Loss: 2.302950432559829, Train Acc: 0.09609319474587817, Val Loss: 2.3030219078063965, Val Acc: 0.09355221518987342\n"
          ]
        },
        {
          "name": "stderr",
          "output_type": "stream",
          "text": [
            "                                                                   \r"
          ]
        },
        {
          "name": "stdout",
          "output_type": "stream",
          "text": [
            "Epoch: 1, Train Loss: 1.6331753735857477, Train Acc: 0.8573649609520999, Val Loss: 1.5232935208308547, Val Acc: 0.9449169303797469\n"
          ]
        },
        {
          "name": "stderr",
          "output_type": "stream",
          "text": [
            "                                                                   \r"
          ]
        },
        {
          "name": "stdout",
          "output_type": "stream",
          "text": [
            "Epoch: 2, Train Loss: 1.5122679154247618, Train Acc: 0.9540967040224624, Val Loss: 1.5013187278675129, Val Acc: 0.9639042721518988\n"
          ]
        },
        {
          "name": "stderr",
          "output_type": "stream",
          "text": [
            "                                                                   \r"
          ]
        },
        {
          "name": "stdout",
          "output_type": "stream",
          "text": [
            "Epoch: 3, Train Loss: 1.495297965210384, Train Acc: 0.9692774965310655, Val Loss: 1.4881289593781097, Val Acc: 0.9759691455696202\n"
          ]
        },
        {
          "name": "stderr",
          "output_type": "stream",
          "text": [
            "                                                                   \r"
          ]
        },
        {
          "name": "stdout",
          "output_type": "stream",
          "text": [
            "Epoch: 4, Train Loss: 1.486892978519773, Train Acc: 0.9768290245202559, Val Loss: 1.483963602705847, Val Acc: 0.9785403481012658\n"
          ]
        },
        {
          "name": "stderr",
          "output_type": "stream",
          "text": [
            "                                                                   \r"
          ]
        },
        {
          "name": "stdout",
          "output_type": "stream",
          "text": [
            "Epoch: 5, Train Loss: 1.4827339666992871, Train Acc: 0.980382684832697, Val Loss: 1.4824101939986023, Val Acc: 0.979628164556962\n"
          ]
        },
        {
          "name": "stderr",
          "output_type": "stream",
          "text": [
            "                                                                   \r"
          ]
        },
        {
          "name": "stdout",
          "output_type": "stream",
          "text": [
            "Epoch: 6, Train Loss: 1.4789398484138538, Train Acc: 0.9839807658561511, Val Loss: 1.4819495285613626, Val Acc: 0.9804193037974683\n"
          ]
        },
        {
          "name": "stderr",
          "output_type": "stream",
          "text": [
            "                                                                   \r"
          ]
        },
        {
          "name": "stdout",
          "output_type": "stream",
          "text": [
            "Epoch: 7, Train Loss: 1.477361253838041, Train Acc: 0.9851357054862895, Val Loss: 1.4806452506705174, Val Acc: 0.9810126582278481\n"
          ]
        },
        {
          "name": "stderr",
          "output_type": "stream",
          "text": [
            "                                                                   \r"
          ]
        },
        {
          "name": "stdout",
          "output_type": "stream",
          "text": [
            "Epoch: 8, Train Loss: 1.4753465456749075, Train Acc: 0.9872345860833044, Val Loss: 1.4780152492885348, Val Acc: 0.9838805379746836\n"
          ]
        },
        {
          "name": "stderr",
          "output_type": "stream",
          "text": [
            "                                                                   \r"
          ]
        },
        {
          "name": "stdout",
          "output_type": "stream",
          "text": [
            "Epoch: 9, Train Loss: 1.4745283421677058, Train Acc: 0.9877731876332623, Val Loss: 1.477089883405951, Val Acc: 0.985067246835443\n"
          ]
        },
        {
          "name": "stderr",
          "output_type": "stream",
          "text": [
            "                                                                    \r"
          ]
        },
        {
          "name": "stdout",
          "output_type": "stream",
          "text": [
            "Epoch: 10, Train Loss: 1.4728927978320416, Train Acc: 0.9893112562612684, Val Loss: 1.47745403911494, Val Acc: 0.9847705696202531\n",
            "Early stopping\n",
            "lenet_adam_lr_0.001_bs_32_n_60000\n"
          ]
        },
        {
          "name": "stderr",
          "output_type": "stream",
          "text": [
            "                                                                        \r"
          ]
        },
        {
          "name": "stdout",
          "output_type": "stream",
          "text": [
            "Epoch: 0, Train Loss: 2.3026391642252606, Train Acc: 0.05485, Val Loss: 2.302655482063659, Val Acc: 0.05461261980830671\n"
          ]
        },
        {
          "name": "stderr",
          "output_type": "stream",
          "text": [
            "                                                                      \r"
          ]
        },
        {
          "name": "stdout",
          "output_type": "stream",
          "text": [
            "Epoch: 1, Train Loss: 1.5612035945892333, Train Acc: 0.9136333333333333, Val Loss: 1.50476622657654, Val Acc: 0.9604632587859425\n"
          ]
        },
        {
          "name": "stderr",
          "output_type": "stream",
          "text": [
            "                                                                      \r"
          ]
        },
        {
          "name": "stdout",
          "output_type": "stream",
          "text": [
            "Epoch: 2, Train Loss: 1.4975974318186442, Train Acc: 0.9655, Val Loss: 1.4877581162193714, Val Acc: 0.9746405750798722\n"
          ]
        },
        {
          "name": "stderr",
          "output_type": "stream",
          "text": [
            "                                                                      "
          ]
        },
        {
          "name": "stdout",
          "output_type": "stream",
          "text": [
            "Epoch: 3, Train Loss: 1.4872123054504394, Train Acc: 0.9754166666666667, Val Loss: 1.4880641950205111, Val Acc: 0.9748402555910544\n",
            "Early stopping\n"
          ]
        },
        {
          "name": "stderr",
          "output_type": "stream",
          "text": [
            "\r"
          ]
        }
      ],
      "source": [
        "exp_run(0.001, 'lenet', 'sgd')\n",
        "exp_run(0.01, 'lenet', 'adam')\n",
        "exp_run(0.01, 'lenet', 'sgd')\n",
        "exp_run(0.001, 'lenet', 'adam', batch_size=128)\n",
        "exp_run(0.001, 'lenet', 'adam', batch_size=32)"
      ]
    },
    {
      "cell_type": "code",
      "execution_count": null,
      "metadata": {
        "id": "tNXjCjoyGEhG",
        "outputId": "1c14c72a-1343-42db-d02f-e2c4b9497bc5"
      },
      "outputs": [
        {
          "name": "stdout",
          "output_type": "stream",
          "text": [
            "lenet_adam_lr_0.001_bs_64_n_60000 Final Val Acc: 0.9814888535031847\n",
            "lenet_sgd_lr_0.001_bs_64_n_60000 Final Val Acc: 0.10260748407643312\n",
            "lenet_adam_lr_0.01_bs_64_n_60000 Final Val Acc: 0.9599920382165605\n",
            "lenet_sgd_lr_0.01_bs_64_n_60000 Final Val Acc: 0.8177746815286624\n",
            "lenet_adam_lr_0.001_bs_128_n_60000 Final Val Acc: 0.985067246835443\n",
            "lenet_adam_lr_0.001_bs_32_n_60000 Final Val Acc: 0.9746405750798722\n"
          ]
        },
        {
          "data": {
            "text/plain": [
              "Text(0, 0.5, 'Loss')"
            ]
          },
          "metadata": {},
          "output_type": "display_data"
        },
        {
          "data": {
            "image/png": "[encoded data removed]",
            "text/plain": [
              "<Figure size 640x480 with 1 Axes>"
            ]
          },
          "metadata": {},
          "output_type": "display_data"
        }
      ],
      "source": [
        "for e in my_experiments:\n",
        "    print(e['name'], 'Final Val Acc:', e['log']['val/acc'][-1])\n",
        "\n",
        "for e in my_experiments:\n",
        "    plt.plot(e['log']['val/loss'], label=e['name'])\n",
        "\n",
        "plt.legend()\n",
        "plt.xlabel('Epochs')\n",
        "plt.ylabel('Loss')\n"
      ]
    },
    {
      "cell_type": "code",
      "execution_count": null,
      "metadata": {
        "id": "E-ID-SZSGEhG",
        "outputId": "ccb22ce3-0997-4a77-e3de-53787447c9ae"
      },
      "outputs": [
        {
          "name": "stdout",
          "output_type": "stream",
          "text": [
            "lenet_adam_lr_0.001_bs_128_n_600\n"
          ]
        },
        {
          "name": "stderr",
          "output_type": "stream",
          "text": [
            "                                                                   \r"
          ]
        },
        {
          "name": "stdout",
          "output_type": "stream",
          "text": [
            "Epoch: 0, Train Loss: 2.3025170803070067, Train Acc: 0.07073863670229912, Val Loss: 2.3023668723770334, Val Acc: 0.06200553797468354\n"
          ]
        },
        {
          "name": "stderr",
          "output_type": "stream",
          "text": [
            "                                                                   \r"
          ]
        },
        {
          "name": "stdout",
          "output_type": "stream",
          "text": [
            "Epoch: 1, Train Loss: 2.2984052181243895, Train Acc: 0.27258522510528566, Val Loss: 2.2898788572866704, Val Acc: 0.455498417721519\n"
          ]
        },
        {
          "name": "stderr",
          "output_type": "stream",
          "text": [
            "                                                                   \r"
          ]
        },
        {
          "name": "stdout",
          "output_type": "stream",
          "text": [
            "Epoch: 2, Train Loss: 2.2797175884246825, Train Acc: 0.5065340995788574, Val Loss: 2.2590712595589553, Val Acc: 0.5240308544303798\n"
          ]
        },
        {
          "name": "stderr",
          "output_type": "stream",
          "text": [
            "                                                                   \r"
          ]
        },
        {
          "name": "stdout",
          "output_type": "stream",
          "text": [
            "Epoch: 3, Train Loss: 2.236172151565552, Train Acc: 0.503125, Val Loss: 2.1953270042998883, Val Acc: 0.5143393987341772\n"
          ]
        },
        {
          "name": "stderr",
          "output_type": "stream",
          "text": [
            "                                                                   \r"
          ]
        },
        {
          "name": "stdout",
          "output_type": "stream",
          "text": [
            "Epoch: 4, Train Loss: 2.157710599899292, Train Acc: 0.4957386374473572, Val Loss: 2.115903217581254, Val Acc: 0.4762658227848101\n"
          ]
        },
        {
          "name": "stderr",
          "output_type": "stream",
          "text": [
            "                                                                   \r"
          ]
        },
        {
          "name": "stdout",
          "output_type": "stream",
          "text": [
            "Epoch: 5, Train Loss: 2.090666341781616, Train Acc: 0.4839488685131073, Val Loss: 2.0458944719048997, Val Acc: 0.5151305379746836\n"
          ]
        },
        {
          "name": "stderr",
          "output_type": "stream",
          "text": [
            "                                                                   \r"
          ]
        },
        {
          "name": "stdout",
          "output_type": "stream",
          "text": [
            "Epoch: 6, Train Loss: 2.028939628601074, Train Acc: 0.5265625, Val Loss: 1.9775143967399114, Val Acc: 0.5953322784810127\n"
          ]
        },
        {
          "name": "stderr",
          "output_type": "stream",
          "text": [
            "                                                                   \r"
          ]
        },
        {
          "name": "stdout",
          "output_type": "stream",
          "text": [
            "Epoch: 7, Train Loss: 1.9522364377975463, Train Acc: 0.6046875, Val Loss: 1.917060305800619, Val Acc: 0.6544699367088608\n"
          ]
        },
        {
          "name": "stderr",
          "output_type": "stream",
          "text": [
            "                                                                   \r"
          ]
        },
        {
          "name": "stdout",
          "output_type": "stream",
          "text": [
            "Epoch: 8, Train Loss: 1.8990315675735474, Train Acc: 0.6625, Val Loss: 1.8699534301516376, Val Acc: 0.6830498417721519\n"
          ]
        },
        {
          "name": "stderr",
          "output_type": "stream",
          "text": [
            "                                                                   \r"
          ]
        },
        {
          "name": "stdout",
          "output_type": "stream",
          "text": [
            "Epoch: 9, Train Loss: 1.8714987754821777, Train Acc: 0.6684659123420715, Val Loss: 1.8381978424289558, Val Acc: 0.688192246835443\n"
          ]
        },
        {
          "name": "stderr",
          "output_type": "stream",
          "text": [
            "                                                                    \r"
          ]
        },
        {
          "name": "stdout",
          "output_type": "stream",
          "text": [
            "Epoch: 10, Train Loss: 1.8287529468536377, Train Acc: 0.6920454621315002, Val Loss: 1.811661954167523, Val Acc: 0.7065862341772152\n",
            "lenet_adam_lr_0.001_bs_128_n_1800\n"
          ]
        },
        {
          "name": "stderr",
          "output_type": "stream",
          "text": [
            "                                                                   \r"
          ]
        },
        {
          "name": "stdout",
          "output_type": "stream",
          "text": [
            "Epoch: 0, Train Loss: 2.302622985839844, Train Acc: 0.1, Val Loss: 2.302789446673816, Val Acc: 0.08870648734177215\n"
          ]
        },
        {
          "name": "stderr",
          "output_type": "stream",
          "text": [
            "                                                                   \r"
          ]
        },
        {
          "name": "stdout",
          "output_type": "stream",
          "text": [
            "Epoch: 1, Train Loss: 2.2876831849416095, Train Acc: 0.175, Val Loss: 2.240426051465771, Val Acc: 0.3747033227848101\n"
          ]
        },
        {
          "name": "stderr",
          "output_type": "stream",
          "text": [
            "                                                                   \r"
          ]
        },
        {
          "name": "stdout",
          "output_type": "stream",
          "text": [
            "Epoch: 2, Train Loss: 2.1556290944417316, Train Acc: 0.5369791666666667, Val Loss: 2.016012928153895, Val Acc: 0.6841376582278481\n"
          ]
        },
        {
          "name": "stderr",
          "output_type": "stream",
          "text": [
            "                                                                   \r"
          ]
        },
        {
          "name": "stdout",
          "output_type": "stream",
          "text": [
            "Epoch: 3, Train Loss: 1.9339606682459514, Train Acc: 0.6661458333333333, Val Loss: 1.8338846737825418, Val Acc: 0.720431170886076\n"
          ]
        },
        {
          "name": "stderr",
          "output_type": "stream",
          "text": [
            "                                                                   \r"
          ]
        },
        {
          "name": "stdout",
          "output_type": "stream",
          "text": [
            "Epoch: 4, Train Loss: 1.7787985324859619, Train Acc: 0.7541666666666667, Val Loss: 1.7551613080350659, Val Acc: 0.7661194620253164\n"
          ]
        },
        {
          "name": "stderr",
          "output_type": "stream",
          "text": [
            "                                                                   \r"
          ]
        },
        {
          "name": "stdout",
          "output_type": "stream",
          "text": [
            "Epoch: 5, Train Loss: 1.7376912117004395, Train Acc: 0.7828125, Val Loss: 1.7176068764698655, Val Acc: 0.7887658227848101\n"
          ]
        },
        {
          "name": "stderr",
          "output_type": "stream",
          "text": [
            "                                                                   \r"
          ]
        },
        {
          "name": "stdout",
          "output_type": "stream",
          "text": [
            "Epoch: 6, Train Loss: 1.6995948950449626, Train Acc: 0.8041666666666667, Val Loss: 1.6854387702821176, Val Acc: 0.8140822784810127\n"
          ]
        },
        {
          "name": "stderr",
          "output_type": "stream",
          "text": [
            "                                                                   \r"
          ]
        },
        {
          "name": "stdout",
          "output_type": "stream",
          "text": [
            "Epoch: 7, Train Loss: 1.6824215412139893, Train Acc: 0.8307291666666666, Val Loss: 1.6442391947854924, Val Acc: 0.8754944620253164\n"
          ]
        },
        {
          "name": "stderr",
          "output_type": "stream",
          "text": [
            "                                                                   \r"
          ]
        },
        {
          "name": "stdout",
          "output_type": "stream",
          "text": [
            "Epoch: 8, Train Loss: 1.6291613499323527, Train Acc: 0.88125, Val Loss: 1.6212672960909107, Val Acc: 0.8818235759493671\n"
          ]
        },
        {
          "name": "stderr",
          "output_type": "stream",
          "text": [
            "                                                                   \r"
          ]
        },
        {
          "name": "stdout",
          "output_type": "stream",
          "text": [
            "Epoch: 9, Train Loss: 1.628482413291931, Train Acc: 0.8765625, Val Loss: 1.6047617936436134, Val Acc: 0.8900316455696202\n"
          ]
        },
        {
          "name": "stderr",
          "output_type": "stream",
          "text": [
            "                                                                    \r"
          ]
        },
        {
          "name": "stdout",
          "output_type": "stream",
          "text": [
            "Epoch: 10, Train Loss: 1.6207137902577717, Train Acc: 0.8723958333333334, Val Loss: 1.5976204464707193, Val Acc: 0.8895371835443038\n",
            "lenet_adam_lr_0.001_bs_128_n_6000\n"
          ]
        },
        {
          "name": "stderr",
          "output_type": "stream",
          "text": [
            "                                                                   \r"
          ]
        },
        {
          "name": "stdout",
          "output_type": "stream",
          "text": [
            "Epoch: 0, Train Loss: 2.30292960937987, Train Acc: 0.0901168313749293, Val Loss: 2.302952488766441, Val Acc: 0.08920094936708861\n"
          ]
        },
        {
          "name": "stderr",
          "output_type": "stream",
          "text": [
            "                                                                   \r"
          ]
        },
        {
          "name": "stdout",
          "output_type": "stream",
          "text": [
            "Epoch: 1, Train Loss: 2.1222606466171587, Train Acc: 0.4122577892973068, Val Loss: 1.8597230926344666, Val Acc: 0.678006329113924\n"
          ]
        },
        {
          "name": "stderr",
          "output_type": "stream",
          "text": [
            "                                                                   \r"
          ]
        },
        {
          "name": "stdout",
          "output_type": "stream",
          "text": [
            "Epoch: 2, Train Loss: 1.737178198834683, Train Acc: 0.7936930098432176, Val Loss: 1.6347992903069606, Val Acc: 0.8744066455696202\n"
          ]
        },
        {
          "name": "stderr",
          "output_type": "stream",
          "text": [
            "                                                                   \r"
          ]
        },
        {
          "name": "stdout",
          "output_type": "stream",
          "text": [
            "Epoch: 3, Train Loss: 1.6179130432453561, Train Acc: 0.8808653126371667, Val Loss: 1.590377836287776, Val Acc: 0.8950751582278481\n"
          ]
        },
        {
          "name": "stderr",
          "output_type": "stream",
          "text": [
            "                                                                   \r"
          ]
        },
        {
          "name": "stdout",
          "output_type": "stream",
          "text": [
            "Epoch: 4, Train Loss: 1.5795349567494494, Train Acc: 0.9003846898992011, Val Loss: 1.564523826671552, Val Acc: 0.9143591772151899\n"
          ]
        },
        {
          "name": "stderr",
          "output_type": "stream",
          "text": [
            "                                                                   \r"
          ]
        },
        {
          "name": "stdout",
          "output_type": "stream",
          "text": [
            "Epoch: 5, Train Loss: 1.5596426902933325, Train Acc: 0.9158197197508304, Val Loss: 1.553104895579664, Val Acc: 0.9212816455696202\n"
          ]
        },
        {
          "name": "stderr",
          "output_type": "stream",
          "text": [
            "                                                                   \r"
          ]
        },
        {
          "name": "stdout",
          "output_type": "stream",
          "text": [
            "Epoch: 6, Train Loss: 1.5580086555886776, Train Acc: 0.9170545225447797, Val Loss: 1.5444725178465057, Val Acc: 0.927314082278481\n"
          ]
        },
        {
          "name": "stderr",
          "output_type": "stream",
          "text": [
            "                                                                   \r"
          ]
        },
        {
          "name": "stdout",
          "output_type": "stream",
          "text": [
            "Epoch: 7, Train Loss: 1.5494646544152118, Train Acc: 0.920521467290026, Val Loss: 1.5404047694387315, Val Acc: 0.9314675632911392\n"
          ]
        },
        {
          "name": "stderr",
          "output_type": "stream",
          "text": [
            "                                                                   \r"
          ]
        },
        {
          "name": "stdout",
          "output_type": "stream",
          "text": [
            "Epoch: 8, Train Loss: 1.5414435229402907, Train Acc: 0.9273841190845409, Val Loss: 1.5331672762013688, Val Acc: 0.935818829113924\n"
          ]
        },
        {
          "name": "stderr",
          "output_type": "stream",
          "text": [
            "                                                                   \r"
          ]
        },
        {
          "name": "stdout",
          "output_type": "stream",
          "text": [
            "Epoch: 9, Train Loss: 1.5351487144510796, Train Acc: 0.9332969239417542, Val Loss: 1.5259314307683631, Val Acc: 0.9424446202531646\n"
          ]
        },
        {
          "name": "stderr",
          "output_type": "stream",
          "text": [
            "                                                                    \r"
          ]
        },
        {
          "name": "stdout",
          "output_type": "stream",
          "text": [
            "Epoch: 10, Train Loss: 1.5277206390462024, Train Acc: 0.9408957070492684, Val Loss: 1.5230610883688624, Val Acc: 0.9451147151898734\n",
            "lenet_adam_lr_0.001_bs_128_n_18000\n"
          ]
        },
        {
          "name": "stderr",
          "output_type": "stream",
          "text": [
            "                                                                     \r"
          ]
        },
        {
          "name": "stdout",
          "output_type": "stream",
          "text": [
            "Epoch: 0, Train Loss: 2.3023578782453606, Train Acc: 0.09831560286858403, Val Loss: 2.3023096700257892, Val Acc: 0.10047468354430379\n"
          ]
        },
        {
          "name": "stderr",
          "output_type": "stream",
          "text": [
            "                                                                   \r"
          ]
        },
        {
          "name": "stdout",
          "output_type": "stream",
          "text": [
            "Epoch: 1, Train Loss: 1.8221054263148748, Train Acc: 0.6969082448499423, Val Loss: 1.5915641543231434, Val Acc: 0.8965585443037974\n"
          ]
        },
        {
          "name": "stderr",
          "output_type": "stream",
          "text": [
            "                                                                   \r"
          ]
        },
        {
          "name": "stdout",
          "output_type": "stream",
          "text": [
            "Epoch: 2, Train Loss: 1.5701748555433666, Train Acc: 0.9079565604527792, Val Loss: 1.5430908308753484, Val Acc: 0.9300830696202531\n"
          ]
        },
        {
          "name": "stderr",
          "output_type": "stream",
          "text": [
            "                                                                   \r"
          ]
        },
        {
          "name": "stdout",
          "output_type": "stream",
          "text": [
            "Epoch: 3, Train Loss: 1.5393070963257593, Train Acc: 0.9326462766802903, Val Loss: 1.5282873005806645, Val Acc: 0.9412579113924051\n"
          ]
        },
        {
          "name": "stderr",
          "output_type": "stream",
          "text": [
            "                                                                   \r"
          ]
        },
        {
          "name": "stdout",
          "output_type": "stream",
          "text": [
            "Epoch: 4, Train Loss: 1.521203431677311, Train Acc: 0.947129876055616, Val Loss: 1.514245049862922, Val Acc: 0.9527294303797469\n"
          ]
        },
        {
          "name": "stderr",
          "output_type": "stream",
          "text": [
            "                                                                   \r"
          ]
        },
        {
          "name": "stdout",
          "output_type": "stream",
          "text": [
            "Epoch: 5, Train Loss: 1.5106122722017004, Train Acc: 0.9553523938706581, Val Loss: 1.5036399636087538, Val Acc: 0.9629153481012658\n"
          ]
        },
        {
          "name": "stderr",
          "output_type": "stream",
          "text": [
            "                                                                   \r"
          ]
        },
        {
          "name": "stdout",
          "output_type": "stream",
          "text": [
            "Epoch: 6, Train Loss: 1.5056411425272624, Train Acc: 0.9593860815602837, Val Loss: 1.4996264237391799, Val Acc: 0.9644976265822784\n"
          ]
        },
        {
          "name": "stderr",
          "output_type": "stream",
          "text": [
            "                                                                   \r"
          ]
        },
        {
          "name": "stdout",
          "output_type": "stream",
          "text": [
            "Epoch: 7, Train Loss: 1.4973069353306547, Train Acc: 0.9685283687943262, Val Loss: 1.494671660133555, Val Acc: 0.9696400316455697\n"
          ]
        },
        {
          "name": "stderr",
          "output_type": "stream",
          "text": [
            "                                                                   \r"
          ]
        },
        {
          "name": "stdout",
          "output_type": "stream",
          "text": [
            "Epoch: 8, Train Loss: 1.4922023360610854, Train Acc: 0.9731493795171697, Val Loss: 1.4921728417843203, Val Acc: 0.9721123417721519\n"
          ]
        },
        {
          "name": "stderr",
          "output_type": "stream",
          "text": [
            "                                                                   \r"
          ]
        },
        {
          "name": "stdout",
          "output_type": "stream",
          "text": [
            "Epoch: 9, Train Loss: 1.489511359667947, Train Acc: 0.9753989361702128, Val Loss: 1.4894853905786443, Val Acc: 0.9746835443037974\n"
          ]
        },
        {
          "name": "stderr",
          "output_type": "stream",
          "text": [
            "                                                                    "
          ]
        },
        {
          "name": "stdout",
          "output_type": "stream",
          "text": [
            "Epoch: 10, Train Loss: 1.4875715184719005, Train Acc: 0.9764184398008576, Val Loss: 1.4866170113599753, Val Acc: 0.9770569620253164\n"
          ]
        },
        {
          "name": "stderr",
          "output_type": "stream",
          "text": [
            "\r"
          ]
        }
      ],
      "source": [
        "exp_run(0.001, 'lenet', 'adam', batch_size=128, num_training_samples=600)\n",
        "exp_run(0.001, 'lenet', 'adam', batch_size=128, num_training_samples=1800)\n",
        "exp_run(0.001, 'lenet', 'adam', batch_size=128, num_training_samples=6000)\n",
        "exp_run(0.001, 'lenet', 'adam', batch_size=128, num_training_samples=18000)"
      ]
    },
    {
      "cell_type": "code",
      "execution_count": null,
      "metadata": {
        "id": "u-MQaOhsGEhH",
        "outputId": "5a5e299c-d96b-497f-cac7-617d8bad2158"
      },
      "outputs": [
        {
          "name": "stdout",
          "output_type": "stream",
          "text": [
            "lenet_adam_lr_0.001_bs_128_n_60000 Final Val Acc: 0.985067246835443\n",
            "lenet_adam_lr_0.001_bs_128_n_600 Final Val Acc: 0.7065862341772152\n",
            "lenet_adam_lr_0.001_bs_128_n_1800 Final Val Acc: 0.8895371835443038\n",
            "lenet_adam_lr_0.001_bs_128_n_6000 Final Val Acc: 0.9451147151898734\n",
            "lenet_adam_lr_0.001_bs_128_n_18000 Final Val Acc: 0.9770569620253164\n"
          ]
        },
        {
          "data": {
            "text/plain": [
              "Text(0, 0.5, 'Loss')"
            ]
          },
          "metadata": {},
          "output_type": "display_data"
        },
        {
          "data": {
            "image/png": "[encoded data removed]",
            "text/plain": [
              "<Figure size 640x480 with 1 Axes>"
            ]
          },
          "metadata": {},
          "output_type": "display_data"
        }
      ],
      "source": [
        "for e in my_experiments:\n",
        "    if e['name'][:26] == 'lenet_adam_lr_0.001_bs_128':\n",
        "        print(e['name'], 'Final Val Acc:', e['log']['val/acc'][-1])\n",
        "\n",
        "for e in my_experiments:\n",
        "    if e['name'][:26] == 'lenet_adam_lr_0.001_bs_128':\n",
        "        plt.plot(e['log']['val/loss'], label=e['name'])\n",
        "\n",
        "plt.legend()\n",
        "\n",
        "plt.xlabel('Epochs')\n",
        "plt.ylabel('Loss')\n",
        "\n"
      ]
    },
    {
      "cell_type": "code",
      "execution_count": null,
      "metadata": {
        "id": "fw6zqcEIGEhH",
        "outputId": "23dffd66-4051-4c7c-e63b-8e906c254a47"
      },
      "outputs": [
        {
          "name": "stdout",
          "output_type": "stream",
          "text": [
            "lenet2_adam_lr_0.001_bs_128_n_60000_e_20\n"
          ]
        },
        {
          "name": "stderr",
          "output_type": "stream",
          "text": [
            "                                                                     \r"
          ]
        },
        {
          "name": "stdout",
          "output_type": "stream",
          "text": [
            "Epoch: 0, Train Loss: 2.3028566613634514, Train Acc: 0.09034625977786111, Val Loss: 2.302902568744708, Val Acc: 0.08959651898734178\n"
          ]
        },
        {
          "name": "stderr",
          "output_type": "stream",
          "text": [
            "                                                                   \r"
          ]
        },
        {
          "name": "stdout",
          "output_type": "stream",
          "text": [
            "Epoch: 1, Train Loss: 1.5754837534829242, Train Acc: 0.9123967217484008, Val Loss: 1.4915626426286335, Val Acc: 0.9740901898734177\n"
          ]
        },
        {
          "name": "stderr",
          "output_type": "stream",
          "text": [
            "                                                                   \r"
          ]
        },
        {
          "name": "stdout",
          "output_type": "stream",
          "text": [
            "Epoch: 2, Train Loss: 1.4897880953258034, Train Acc: 0.9748134328358209, Val Loss: 1.4837753455850142, Val Acc: 0.9792325949367089\n"
          ]
        },
        {
          "name": "stderr",
          "output_type": "stream",
          "text": [
            "                                                                   \r"
          ]
        },
        {
          "name": "stdout",
          "output_type": "stream",
          "text": [
            "Epoch: 3, Train Loss: 1.4822820092060927, Train Acc: 0.9813821517836565, Val Loss: 1.4781977964352957, Val Acc: 0.9848694620253164\n"
          ]
        },
        {
          "name": "stderr",
          "output_type": "stream",
          "text": [
            "                                                                   "
          ]
        },
        {
          "name": "stdout",
          "output_type": "stream",
          "text": [
            "Epoch: 4, Train Loss: 1.4786734329357838, Train Acc: 0.9840918176972282, Val Loss: 1.4787501504149618, Val Acc: 0.9837816455696202\n",
            "Early stopping\n"
          ]
        },
        {
          "name": "stderr",
          "output_type": "stream",
          "text": [
            "\r"
          ]
        }
      ],
      "source": [
        "exp_run(0.001, 'lenet2', 'adam', batch_size=128)"
      ]
    },
    {
      "cell_type": "code",
      "execution_count": null,
      "metadata": {
        "id": "XiGU-CM_GEhH",
        "outputId": "8620a469-9a19-4f17-ab49-2ff0af2bb360"
      },
      "outputs": [
        {
          "name": "stdout",
          "output_type": "stream",
          "text": [
            "trans_adam_lr_0.001_bs_128_n_60000_e_20\n"
          ]
        },
        {
          "name": "stderr",
          "output_type": "stream",
          "text": [
            "Validation Epoch 0:   1%|          | 5/469 [00:00<00:09, 48.68it/s]"
          ]
        },
        {
          "name": "stderr",
          "output_type": "stream",
          "text": [
            "                                                                     \r"
          ]
        },
        {
          "name": "stdout",
          "output_type": "stream",
          "text": [
            "Epoch: 0, Train Loss: 2.3023958063837306, Train Acc: 0.10440542822135791, Val Loss: 2.3025131648099877, Val Acc: 0.10235363924050633\n"
          ]
        },
        {
          "name": "stderr",
          "output_type": "stream",
          "text": [
            "                                                                   \r"
          ]
        },
        {
          "name": "stdout",
          "output_type": "stream",
          "text": [
            "Epoch: 1, Train Loss: 1.8002258889964904, Train Acc: 0.6598036603124411, Val Loss: 1.606450781037536, Val Acc: 0.8555181962025317\n"
          ]
        },
        {
          "name": "stderr",
          "output_type": "stream",
          "text": [
            "                                                                   \r"
          ]
        },
        {
          "name": "stdout",
          "output_type": "stream",
          "text": [
            "Epoch: 2, Train Loss: 1.5983234155915185, Train Acc: 0.863261815962761, Val Loss: 1.5572516963451724, Val Acc: 0.9039754746835443\n"
          ]
        },
        {
          "name": "stderr",
          "output_type": "stream",
          "text": [
            "                                                                   "
          ]
        },
        {
          "name": "stdout",
          "output_type": "stream",
          "text": [
            "Epoch: 3, Train Loss: 1.5654558888884749, Train Acc: 0.8954390991471215, Val Loss: 1.565239429473877, Val Acc: 0.8961629746835443\n",
            "Early stopping\n"
          ]
        },
        {
          "name": "stderr",
          "output_type": "stream",
          "text": [
            "\r"
          ]
        }
      ],
      "source": [
        "exp_run(0.001, 'trans', 'adam', batch_size=128)"
      ]
    },
    {
      "cell_type": "code",
      "execution_count": null,
      "metadata": {
        "id": "kwL8O7xYGEhH",
        "outputId": "3f16897e-eb5f-41dd-f6ea-1ec495d8a75b"
      },
      "outputs": [
        {
          "name": "stdout",
          "output_type": "stream",
          "text": [
            "trans_adam_lr_0.0001_bs_128_n_60000_e_20\n"
          ]
        },
        {
          "name": "stderr",
          "output_type": "stream",
          "text": [
            "                                                                     \r"
          ]
        },
        {
          "name": "stdout",
          "output_type": "stream",
          "text": [
            "Epoch: 0, Train Loss: 2.3029168460414864, Train Acc: 0.0975035536708608, Val Loss: 2.3028971726381324, Val Acc: 0.09701344936708861\n"
          ]
        },
        {
          "name": "stderr",
          "output_type": "stream",
          "text": [
            "                                                                   \r"
          ]
        },
        {
          "name": "stdout",
          "output_type": "stream",
          "text": [
            "Epoch: 1, Train Loss: 1.8625321629713338, Train Acc: 0.6253331556503199, Val Loss: 1.5775714463825468, Val Acc: 0.896064082278481\n"
          ]
        },
        {
          "name": "stderr",
          "output_type": "stream",
          "text": [
            "                                                                   \r"
          ]
        },
        {
          "name": "stdout",
          "output_type": "stream",
          "text": [
            "Epoch: 2, Train Loss: 1.5787505737499896, Train Acc: 0.8927683014351168, Val Loss: 1.5291756859308556, Val Acc: 0.9366099683544303\n"
          ]
        },
        {
          "name": "stderr",
          "output_type": "stream",
          "text": [
            "                                                                   \r"
          ]
        },
        {
          "name": "stdout",
          "output_type": "stream",
          "text": [
            "Epoch: 3, Train Loss: 1.5491261065387523, Train Acc: 0.9171719528210442, Val Loss: 1.5222094119349612, Val Acc: 0.9417523734177216\n"
          ]
        },
        {
          "name": "stderr",
          "output_type": "stream",
          "text": [
            "                                                                   \r"
          ]
        },
        {
          "name": "stdout",
          "output_type": "stream",
          "text": [
            "Epoch: 4, Train Loss: 1.5344547661128582, Train Acc: 0.9301039445628998, Val Loss: 1.5129615279692639, Val Acc: 0.9488726265822784\n"
          ]
        },
        {
          "name": "stderr",
          "output_type": "stream",
          "text": [
            "                                                                   \r"
          ]
        },
        {
          "name": "stdout",
          "output_type": "stream",
          "text": [
            "Epoch: 5, Train Loss: 1.5235035399129904, Train Acc: 0.9406039001845093, Val Loss: 1.5102275277994857, Val Acc: 0.9522349683544303\n"
          ]
        },
        {
          "name": "stderr",
          "output_type": "stream",
          "text": [
            "                                                                   \r"
          ]
        },
        {
          "name": "stdout",
          "output_type": "stream",
          "text": [
            "Epoch: 6, Train Loss: 1.518278604631485, Train Acc: 0.9446517413358952, Val Loss: 1.5044438084469567, Val Acc: 0.9577729430379747\n"
          ]
        },
        {
          "name": "stderr",
          "output_type": "stream",
          "text": [
            "                                                                   \r"
          ]
        },
        {
          "name": "stdout",
          "output_type": "stream",
          "text": [
            "Epoch: 7, Train Loss: 1.5145595798106082, Train Acc: 0.9481221127357564, Val Loss: 1.5023836651934852, Val Acc: 0.9597507911392406\n"
          ]
        },
        {
          "name": "stderr",
          "output_type": "stream",
          "text": [
            "                                                                   \r"
          ]
        },
        {
          "name": "stdout",
          "output_type": "stream",
          "text": [
            "Epoch: 8, Train Loss: 1.5107912102233627, Train Acc: 0.9517090884861408, Val Loss: 1.4972547866121124, Val Acc: 0.9653876582278481\n"
          ]
        },
        {
          "name": "stderr",
          "output_type": "stream",
          "text": [
            "                                                                   \r"
          ]
        },
        {
          "name": "stdout",
          "output_type": "stream",
          "text": [
            "Epoch: 9, Train Loss: 1.5068275730238794, Train Acc: 0.9558735341151386, Val Loss: 1.4957558007179936, Val Acc: 0.9661787974683544\n"
          ]
        },
        {
          "name": "stderr",
          "output_type": "stream",
          "text": [
            "                                                                    \r"
          ]
        },
        {
          "name": "stdout",
          "output_type": "stream",
          "text": [
            "Epoch: 10, Train Loss: 1.5049218557028374, Train Acc: 0.9577281006109486, Val Loss: 1.4936938979957677, Val Acc: 0.9678599683544303\n"
          ]
        },
        {
          "name": "stderr",
          "output_type": "stream",
          "text": [
            "                                                                    \r"
          ]
        },
        {
          "name": "stdout",
          "output_type": "stream",
          "text": [
            "Epoch: 11, Train Loss: 1.5013895865950757, Train Acc: 0.9611484986632618, Val Loss: 1.492340148249759, Val Acc: 0.9698378164556962\n"
          ]
        },
        {
          "name": "stderr",
          "output_type": "stream",
          "text": [
            "                                                                    "
          ]
        },
        {
          "name": "stdout",
          "output_type": "stream",
          "text": [
            "Epoch: 12, Train Loss: 1.4993011765896893, Train Acc: 0.9628142769148609, Val Loss: 1.4934728764280487, Val Acc: 0.9681566455696202\n",
            "Early stopping\n"
          ]
        },
        {
          "name": "stderr",
          "output_type": "stream",
          "text": [
            "\r"
          ]
        }
      ],
      "source": [
        "exp_run(0.0001, 'trans', 'adam', batch_size=128)"
      ]
    },
    {
      "cell_type": "code",
      "execution_count": null,
      "metadata": {
        "id": "fhFVgabqGEhI",
        "outputId": "cd6cd146-b335-4fd3-f3f7-d23330778f10"
      },
      "outputs": [
        {
          "name": "stdout",
          "output_type": "stream",
          "text": [
            "trans_adam_lr_0.0001_bs_128_n_6000_e_20\n"
          ]
        },
        {
          "name": "stderr",
          "output_type": "stream",
          "text": [
            "                                                                   \r"
          ]
        },
        {
          "name": "stdout",
          "output_type": "stream",
          "text": [
            "Epoch: 0, Train Loss: 2.3028288496301528, Train Acc: 0.10220364750699794, Val Loss: 2.302757945241807, Val Acc: 0.10126582278481013\n"
          ]
        },
        {
          "name": "stderr",
          "output_type": "stream",
          "text": [
            "                                                                   \r"
          ]
        },
        {
          "name": "stdout",
          "output_type": "stream",
          "text": [
            "Epoch: 1, Train Loss: 2.3004576500425946, Train Acc: 0.1118683510638298, Val Loss: 2.292185050022753, Val Acc: 0.11362737341772151\n"
          ]
        },
        {
          "name": "stderr",
          "output_type": "stream",
          "text": [
            "                                                                   \r"
          ]
        },
        {
          "name": "stdout",
          "output_type": "stream",
          "text": [
            "Epoch: 2, Train Loss: 2.238111120589236, Train Acc: 0.2179901219428854, Val Loss: 2.1681577465202233, Val Acc: 0.3113132911392405\n"
          ]
        },
        {
          "name": "stderr",
          "output_type": "stream",
          "text": [
            "                                                                   \r"
          ]
        },
        {
          "name": "stdout",
          "output_type": "stream",
          "text": [
            "Epoch: 3, Train Loss: 2.092673885061386, Train Acc: 0.40009973404255317, Val Loss: 1.9749092165427873, Val Acc: 0.5452927215189873\n"
          ]
        },
        {
          "name": "stderr",
          "output_type": "stream",
          "text": [
            "                                                                   \r"
          ]
        },
        {
          "name": "stdout",
          "output_type": "stream",
          "text": [
            "Epoch: 4, Train Loss: 1.9322505022617096, Train Acc: 0.5852488609070473, Val Loss: 1.8376417295842231, Val Acc: 0.6412183544303798\n"
          ]
        },
        {
          "name": "stderr",
          "output_type": "stream",
          "text": [
            "                                                                   \r"
          ]
        },
        {
          "name": "stdout",
          "output_type": "stream",
          "text": [
            "Epoch: 5, Train Loss: 1.8377794001964813, Train Acc: 0.6570573715453453, Val Loss: 1.7821709928633291, Val Acc: 0.6998615506329114\n"
          ]
        },
        {
          "name": "stderr",
          "output_type": "stream",
          "text": [
            "                                                                   \r"
          ]
        },
        {
          "name": "stdout",
          "output_type": "stream",
          "text": [
            "Epoch: 6, Train Loss: 1.7729448840973225, Train Acc: 0.7275123482054853, Val Loss: 1.698348715335508, Val Acc: 0.7931170886075949\n"
          ]
        },
        {
          "name": "stderr",
          "output_type": "stream",
          "text": [
            "                                                                   \r"
          ]
        },
        {
          "name": "stdout",
          "output_type": "stream",
          "text": [
            "Epoch: 7, Train Loss: 1.7113828506875546, Train Acc: 0.7788278879003322, Val Loss: 1.676620208764378, Val Acc: 0.7998417721518988\n"
          ]
        },
        {
          "name": "stderr",
          "output_type": "stream",
          "text": [
            "                                                                   \r"
          ]
        },
        {
          "name": "stdout",
          "output_type": "stream",
          "text": [
            "Epoch: 8, Train Loss: 1.6905084797676573, Train Acc: 0.7899173637653919, Val Loss: 1.6525700710996796, Val Acc: 0.8182357594936709\n"
          ]
        },
        {
          "name": "stderr",
          "output_type": "stream",
          "text": [
            "                                                                   \r"
          ]
        },
        {
          "name": "stdout",
          "output_type": "stream",
          "text": [
            "Epoch: 9, Train Loss: 1.671513745125304, Train Acc: 0.8090330552547536, Val Loss: 1.635528819470466, Val Acc: 0.8428599683544303\n"
          ]
        },
        {
          "name": "stderr",
          "output_type": "stream",
          "text": [
            "                                                                    \r"
          ]
        },
        {
          "name": "stdout",
          "output_type": "stream",
          "text": [
            "Epoch: 10, Train Loss: 1.6370629097553009, Train Acc: 0.8493066113045875, Val Loss: 1.6012509155877028, Val Acc: 0.8759889240506329\n"
          ]
        },
        {
          "name": "stderr",
          "output_type": "stream",
          "text": [
            "                                                                    \r"
          ]
        },
        {
          "name": "stdout",
          "output_type": "stream",
          "text": [
            "Epoch: 11, Train Loss: 1.6327706778303106, Train Acc: 0.8503751906942814, Val Loss: 1.5917551668384406, Val Acc: 0.8847903481012658\n"
          ]
        },
        {
          "name": "stderr",
          "output_type": "stream",
          "text": [
            "                                                                    \r"
          ]
        },
        {
          "name": "stdout",
          "output_type": "stream",
          "text": [
            "Epoch: 12, Train Loss: 1.6077804971248546, Train Acc: 0.8726253813885628, Val Loss: 1.5825676736952383, Val Acc: 0.8883504746835443\n"
          ]
        },
        {
          "name": "stderr",
          "output_type": "stream",
          "text": [
            "                                                                    \r"
          ]
        },
        {
          "name": "stdout",
          "output_type": "stream",
          "text": [
            "Epoch: 13, Train Loss: 1.6036367188108729, Train Acc: 0.8740501530626987, Val Loss: 1.5742239061790178, Val Acc: 0.8965585443037974\n"
          ]
        },
        {
          "name": "stderr",
          "output_type": "stream",
          "text": [
            "                                                                    \r"
          ]
        },
        {
          "name": "stdout",
          "output_type": "stream",
          "text": [
            "Epoch: 14, Train Loss: 1.5987661442858108, Train Acc: 0.8781107537289883, Val Loss: 1.564685812479333, Val Acc: 0.9059533227848101\n"
          ]
        },
        {
          "name": "stderr",
          "output_type": "stream",
          "text": [
            "                                                                    \r"
          ]
        },
        {
          "name": "stdout",
          "output_type": "stream",
          "text": [
            "Epoch: 15, Train Loss: 1.5914827864220802, Train Acc: 0.8802004190201455, Val Loss: 1.5598251336737523, Val Acc: 0.912381329113924\n"
          ]
        },
        {
          "name": "stderr",
          "output_type": "stream",
          "text": [
            "                                                                    "
          ]
        },
        {
          "name": "stdout",
          "output_type": "stream",
          "text": [
            "Epoch: 16, Train Loss: 1.583096207456386, Train Acc: 0.8888202892973068, Val Loss: 1.5649517186080353, Val Acc: 0.901503164556962\n",
            "Early stopping\n"
          ]
        },
        {
          "name": "stderr",
          "output_type": "stream",
          "text": [
            "\r"
          ]
        }
      ],
      "source": [
        "exp_run(0.0001, 'trans', 'adam', batch_size=128, num_training_samples=6000)"
      ]
    },
    {
      "cell_type": "markdown",
      "metadata": {
        "id": "8S9zUTyxGEhI"
      },
      "source": [
        "Convolutional Neural Networks (CNNs) frequently exhibit superior performance compared to conventional methods such as Scale-Invariant Feature Transform (SIFT), Bag of Words (BoW), and Support Vector Machine (SVM) due to the following factors:\n",
        "\n",
        "Feature Learning: During training, CNNs automatically acquire hierarchical features from raw data. On the contrary, conventional techniques such as SIFT depend on manually constructed feature extraction, which might fail to encompass all pertinent information that is inherent in the data. CNNs are capable of adjusting to the particular attributes of a given dataset, which may result in enhanced performance.\n",
        "\n",
        "CNNs undergo end-to-end training, during which feature extraction and classification are optimized in tandem. CNNs are thereby capable of acquiring representations that are precisely optimized for the given classification task. On the contrary, conventional approaches frequently necessitate distinct phases for feature extraction and classification, which might not be as congruent with the ultimate objective.\n",
        "\n",
        "Convolutional layers are employed by CNNs to capture spatial hierarchies of features. By combining the knowledge gained from detecting basic patterns in lower layers, these layers are able to identify more complex patterns in higher layers. The aforementioned hierarchical structure proves advantageous in applications such as image classification, wherein the spatial configurations of objects may differ.\n",
        "\n",
        "CNNs can derive substantial benefits from data augmentation methods, including random cropping, rotation, and inversion. By subjecting the model to a greater variety of data variations, these methods enhance its capacity to extrapolate to previously unobserved instances.\n",
        "\n",
        "CNNs make use of parameter sharing, which involves applying the same set of weights to various spatial locations within the input. By doing so, the model's parameter count is diminished and it becomes more conducive to the acquisition of translation-invariant features, which can prove advantageous in applications such as object recognition.\n",
        "\n",
        "Availability of Large-Scale Data: The availability of large-scale labeled datasets, such as ImageNet, has contributed significantly to the success of CNNs. By being trained on such datasets, CNNs are capable of acquiring comprehensive and generalizable representations of visual data.\n",
        "\n",
        "CNNs exhibit robustness towards fluctuations in input data, including but not limited to shifts in scale, rotation, and illumination. By acquiring the ability to extract features that remain constant despite these variations, they can attain a level of robustness comparable to that which conventional methods may demand in-depth preprocessing or feature engineering.\n",
        "\n",
        "Convolutional neural networks (CNNs) have exhibited exceptional performance across various computer vision tasks owing to their end-to-end training paradigm, capability to automatically learn discriminative features from unstructured data, and capability to capture spatial hierarchies of features."
      ]
    }
  ],
  "metadata": {
    "kernelspec": {
      "display_name": "Python 3",
      "language": "python",
      "name": "python3"
    },
    "language_info": {
      "codemirror_mode": {
        "name": "ipython",
        "version": 3
      },
      "file_extension": ".py",
      "mimetype": "text/x-python",
      "name": "python",
      "nbconvert_exporter": "python",
      "pygments_lexer": "ipython3",
      "version": "3.10.6"
    },
    "colab": {
      "provenance": []
    }
  },
  "nbformat": 4,
  "nbformat_minor": 0
}